{
 "cells": [
  {
   "attachments": {},
   "cell_type": "markdown",
   "metadata": {},
   "source": [
    "# Progetto di Machine Learning\n",
    "#### Double inverted pendulum - Lorenzo Frangella 1899674"
   ]
  },
  {
   "cell_type": "code",
   "execution_count": null,
   "metadata": {},
   "outputs": [],
   "source": [
    "# Code to run in only in colab for packet download\n",
    "!pip3 install gymnasium\n",
    "!pip3 install gym[mujoco]"
   ]
  },
  {
   "cell_type": "code",
   "execution_count": 2,
   "metadata": {},
   "outputs": [
    {
     "name": "stderr",
     "output_type": "stream",
     "text": [
      "/Library/Frameworks/Python.framework/Versions/3.8/lib/python3.8/site-packages/tqdm/auto.py:22: TqdmWarning: IProgress not found. Please update jupyter and ipywidgets. See https://ipywidgets.readthedocs.io/en/stable/user_install.html\n",
      "  from .autonotebook import tqdm as notebook_tqdm\n",
      "2023-07-26 16:05:42.815442: I tensorflow/core/platform/cpu_feature_guard.cc:193] This TensorFlow binary is optimized with oneAPI Deep Neural Network Library (oneDNN) to use the following CPU instructions in performance-critical operations:  AVX2 AVX512F AVX512_VNNI FMA\n",
      "To enable them in other operations, rebuild TensorFlow with the appropriate compiler flags.\n"
     ]
    }
   ],
   "source": [
    "import gymnasium as gym\n",
    "import math \n",
    "import os \n",
    "import torch\n",
    "import torch.nn as nn\n",
    "import pandas as pd\n",
    "import torch.nn.functional as F\n",
    "from collections import deque\n",
    "import numpy as np\n",
    "import tensorflow as tf\n",
    "\n",
    "device = torch.device(\"cuda\" if torch.cuda.is_available() else \"cpu\")\n"
   ]
  },
  {
   "attachments": {},
   "cell_type": "markdown",
   "metadata": {},
   "source": [
    "#### Hyperparameters used in our neural network"
   ]
  },
  {
   "cell_type": "code",
   "execution_count": 3,
   "metadata": {},
   "outputs": [],
   "source": [
    "DISCOUNT = 0.95\n",
    "LEARNING_RATE = 1e-4\n"
   ]
  },
  {
   "attachments": {},
   "cell_type": "markdown",
   "metadata": {},
   "source": [
    "A sample of the environment"
   ]
  },
  {
   "cell_type": "code",
   "execution_count": 4,
   "metadata": {},
   "outputs": [
    {
     "name": "stderr",
     "output_type": "stream",
     "text": [
      "/Library/Frameworks/Python.framework/Versions/3.8/lib/python3.8/site-packages/gymnasium/envs/registration.py:787: UserWarning: \u001b[33mWARN: The environment is being initialised with render_mode='none' that is not in the possible render_modes (['human', 'rgb_array', 'depth_array']).\u001b[0m\n",
      "  logger.warn(\n"
     ]
    }
   ],
   "source": [
    "# test of the environment\n",
    "\n",
    "env = gym.make('InvertedDoublePendulum-v4',render_mode=\"none\") #change w \"human\" if needed\n",
    "observation, info = env.reset()\n",
    "\n",
    "for i in range(10):\n",
    "    action = env.action_space.sample()\n",
    "    observation, reward, terminated, truncated, info = env.step(action)\n",
    "\n",
    "    if terminated or truncated:\n",
    "        observation, info = env.reset()\n",
    "\n",
    "env.close\n",
    "\n",
    "\n",
    "OBSERVATIONS = env.observation_space.shape[0]\n",
    "ACTIONS = 1\n",
    "\n"
   ]
  },
  {
   "attachments": {},
   "cell_type": "markdown",
   "metadata": {},
   "source": [
    "Defining the structure of the neural network needed for DQN algorithm"
   ]
  },
  {
   "cell_type": "code",
   "execution_count": 5,
   "metadata": {},
   "outputs": [
    {
     "name": "stdout",
     "output_type": "stream",
     "text": [
      "11\n"
     ]
    }
   ],
   "source": [
    "class DQN(nn.Module):\n",
    "\n",
    "    def __init__(self, n_observations, n_actions):\n",
    "        super(DQN, self).__init__()\n",
    "        self.layer1 = nn.Linear(n_observations, 32)\n",
    "        self.layer2 = nn.Linear(32, 32)\n",
    "        self.layer4 = nn.Linear(32, 32)\n",
    "        self.layer5 = nn.Linear(32, 32)\n",
    "        self.layer3 = nn.Linear(32, n_actions)\n",
    "        self.activation_function = nn.Tanh()\n",
    "\n",
    "    def forward(self, x):\n",
    "        x = F.relu(self.layer1(x))\n",
    "        x = F.relu(self.layer2(x))\n",
    "        x = F.relu(self.layer4(x))\n",
    "        x = F.relu(self.layer5(x))\n",
    "        x = self.layer3(x)\n",
    "        x = self.activation_function(x)\n",
    "        return x\n",
    "    \n",
    "print(OBSERVATIONS)\n",
    "\n",
    "main_nn = DQN(OBSERVATIONS,ACTIONS).to(device)\n",
    "target_nn = DQN(OBSERVATIONS,ACTIONS).to(device)\n",
    "\n",
    "optimizer = torch.optim.Adam(main_nn.parameters(), lr=LEARNING_RATE)\n",
    "loss_fn = nn.MSELoss()"
   ]
  },
  {
   "attachments": {},
   "cell_type": "markdown",
   "metadata": {},
   "source": [
    "Defining the data structure that is needed for the training"
   ]
  },
  {
   "cell_type": "code",
   "execution_count": 6,
   "metadata": {},
   "outputs": [],
   "source": [
    "class ReplayMemory(object):\n",
    "\n",
    "    def __init__(self, size, device =\"cpu\"):\n",
    "        self.buffer = deque(maxlen=size)\n",
    "        self.device = device\n",
    "    \n",
    "    def add(self,state,action, reward, next_state, done):\n",
    "        self.buffer.append((state, action,reward,next_state,done))\n",
    "\n",
    "    def __len__(self):\n",
    "        return len(self.buffer)\n",
    "    \n",
    "    def sample(self, num_samples):\n",
    "        states, actions, rewards, next_states, dones = [] , [] , [] , [] , []\n",
    "        idx = np.random.choice(len(self.buffer), num_samples)\n",
    "        for i in idx:\n",
    "            elem = self.buffer[i]\n",
    "            state, action, reward, next_state, done = elem\n",
    "            states.append(np.array(state, copy=False))\n",
    "            actions.append(np.array(action, copy=False))\n",
    "            rewards.append(reward)\n",
    "            next_states.append(np.array(next_state, copy=False))\n",
    "            dones.append(done)\n",
    "        states = np.array(states)\n",
    "        actions = np.array(actions)\n",
    "        rewards = np.array(rewards, dtype=np.float32)\n",
    "        next_states = np.array(next_states)\n",
    "        dones = np.array(dones, dtype=np.float32)\n",
    "        return states, actions, rewards, next_states, dones\n",
    "    \n",
    "                    "
   ]
  },
  {
   "attachments": {},
   "cell_type": "markdown",
   "metadata": {},
   "source": [
    "#### The following part of code is needed to develop a epsilon-greedy policy\n",
    "\n",
    "With a given probability epsilon a random action is choosen otherwise is choosen the best action\n"
   ]
  },
  {
   "cell_type": "code",
   "execution_count": 7,
   "metadata": {},
   "outputs": [],
   "source": [
    "def select_epsilon_greedy_action(state, epsilon):\n",
    "    result = np.random.uniform()\n",
    "    if result < epsilon:\n",
    "        return env.action_space.sample()\n",
    "    else:\n",
    "        return main_nn(state).cpu().data.numpy()[0]"
   ]
  },
  {
   "attachments": {},
   "cell_type": "markdown",
   "metadata": {},
   "source": [
    "#### Definition of a train step that is performed on the replay memory of size batch"
   ]
  },
  {
   "cell_type": "code",
   "execution_count": 8,
   "metadata": {},
   "outputs": [],
   "source": [
    "def training_step(states, actions, rewards, next_states, dones):\n",
    "    max_next_qs = target_nn(next_states)\n",
    "    target = rewards + (1.0 - dones) * DISCOUNT * max_next_qs\n",
    "    qs = main_nn(states)\n",
    "    loss = loss_fn(qs, target.detach())\n",
    "    optimizer.zero_grad()\n",
    "    loss.backward()\n",
    "    optimizer.step()\n",
    "    return loss"
   ]
  },
  {
   "cell_type": "code",
   "execution_count": 10,
   "metadata": {},
   "outputs": [
    {
     "name": "stdout",
     "output_type": "stream",
     "text": [
      "Episode 0/10000. Epsilon: 0.999. Reward in last 100 episodes: 45.36, loss: 0\n",
      "Episode 50/10000. Epsilon: 0.949. Reward in last 100 episodes: 58.51, loss: 78.83287048339844\n",
      "Episode 100/10000. Epsilon: 0.899. Reward in last 100 episodes: 56.07, loss: 81.81796264648438\n",
      "Episode 150/10000. Epsilon: 0.849. Reward in last 100 episodes: 53.91, loss: 75.29762268066406\n",
      "Episode 200/10000. Epsilon: 0.799. Reward in last 100 episodes: 53.93, loss: 76.52166748046875\n",
      "Episode 250/10000. Epsilon: 0.749. Reward in last 100 episodes: 55.62, loss: 82.50065612792969\n",
      "Episode 300/10000. Epsilon: 0.699. Reward in last 100 episodes: 55.67, loss: 80.4348373413086\n",
      "Episode 350/10000. Epsilon: 0.649. Reward in last 100 episodes: 51.10, loss: 77.08995056152344\n",
      "Episode 400/10000. Epsilon: 0.599. Reward in last 100 episodes: 47.77, loss: 76.96147918701172\n",
      "Episode 450/10000. Epsilon: 0.549. Reward in last 100 episodes: 46.43, loss: 81.7987289428711\n",
      "Episode 500/10000. Epsilon: 0.499. Reward in last 100 episodes: 46.04, loss: 78.06370544433594\n",
      "Episode 550/10000. Epsilon: 0.449. Reward in last 100 episodes: 46.04, loss: 80.23273468017578\n",
      "Episode 600/10000. Epsilon: 0.399. Reward in last 100 episodes: 44.18, loss: 76.67074584960938\n",
      "Episode 650/10000. Epsilon: 0.349. Reward in last 100 episodes: 41.12, loss: 79.05915832519531\n",
      "Episode 700/10000. Epsilon: 0.299. Reward in last 100 episodes: 37.87, loss: 77.71821594238281\n",
      "Episode 750/10000. Epsilon: 0.249. Reward in last 100 episodes: 36.44, loss: 78.25111389160156\n",
      "Episode 800/10000. Epsilon: 0.199. Reward in last 100 episodes: 36.40, loss: 78.64389038085938\n",
      "Episode 850/10000. Epsilon: 0.149. Reward in last 100 episodes: 35.66, loss: 76.34660339355469\n",
      "Episode 900/10000. Epsilon: 0.099. Reward in last 100 episodes: 34.82, loss: 79.61419677734375\n",
      "Episode 950/10000. Epsilon: 0.050. Reward in last 100 episodes: 33.71, loss: 77.80230712890625\n",
      "Episode 1000/10000. Epsilon: 0.050. Reward in last 100 episodes: 32.06, loss: 79.04290008544922\n",
      "Episode 1050/10000. Epsilon: 0.050. Reward in last 100 episodes: 32.20, loss: 76.74478912353516\n",
      "Episode 1100/10000. Epsilon: 0.050. Reward in last 100 episodes: 32.65, loss: 75.54705810546875\n",
      "Episode 1150/10000. Epsilon: 0.050. Reward in last 100 episodes: 31.75, loss: 80.89444732666016\n",
      "Episode 1200/10000. Epsilon: 0.050. Reward in last 100 episodes: 31.59, loss: 75.66493225097656\n",
      "Episode 1250/10000. Epsilon: 0.050. Reward in last 100 episodes: 31.67, loss: 74.88526916503906\n",
      "Episode 1300/10000. Epsilon: 0.050. Reward in last 100 episodes: 31.72, loss: 78.48883819580078\n",
      "Episode 1350/10000. Epsilon: 0.050. Reward in last 100 episodes: 33.12, loss: 76.89139556884766\n",
      "Episode 1400/10000. Epsilon: 0.050. Reward in last 100 episodes: 33.60, loss: 76.09847259521484\n",
      "Episode 1450/10000. Epsilon: 0.050. Reward in last 100 episodes: 32.23, loss: 74.8011703491211\n",
      "Episode 1500/10000. Epsilon: 0.050. Reward in last 100 episodes: 32.38, loss: 76.63333129882812\n",
      "Episode 1550/10000. Epsilon: 0.050. Reward in last 100 episodes: 32.69, loss: 74.68544006347656\n",
      "Episode 1600/10000. Epsilon: 0.050. Reward in last 100 episodes: 32.42, loss: 77.38382720947266\n",
      "Episode 1650/10000. Epsilon: 0.050. Reward in last 100 episodes: 31.74, loss: 78.45513916015625\n",
      "Episode 1700/10000. Epsilon: 0.050. Reward in last 100 episodes: 31.69, loss: 79.32096099853516\n",
      "Episode 1750/10000. Epsilon: 0.050. Reward in last 100 episodes: 31.86, loss: 78.14942169189453\n",
      "Episode 1800/10000. Epsilon: 0.050. Reward in last 100 episodes: 32.19, loss: 78.35094451904297\n",
      "Episode 1850/10000. Epsilon: 0.050. Reward in last 100 episodes: 32.39, loss: 73.93276977539062\n",
      "Episode 1900/10000. Epsilon: 0.050. Reward in last 100 episodes: 32.18, loss: 74.125\n",
      "Episode 1950/10000. Epsilon: 0.050. Reward in last 100 episodes: 32.16, loss: 76.43451690673828\n",
      "Episode 2000/10000. Epsilon: 0.050. Reward in last 100 episodes: 31.75, loss: 75.26680755615234\n",
      "Episode 2050/10000. Epsilon: 0.050. Reward in last 100 episodes: 32.29, loss: 77.5478515625\n",
      "Episode 2100/10000. Epsilon: 0.050. Reward in last 100 episodes: 32.81, loss: 77.08270263671875\n",
      "Episode 2150/10000. Epsilon: 0.050. Reward in last 100 episodes: 32.47, loss: 70.85908508300781\n",
      "Episode 2200/10000. Epsilon: 0.050. Reward in last 100 episodes: 32.71, loss: 77.45307159423828\n",
      "Episode 2250/10000. Epsilon: 0.050. Reward in last 100 episodes: 32.53, loss: 76.72103118896484\n",
      "Episode 2300/10000. Epsilon: 0.050. Reward in last 100 episodes: 31.68, loss: 78.56957244873047\n",
      "Episode 2350/10000. Epsilon: 0.050. Reward in last 100 episodes: 31.39, loss: 75.83119201660156\n",
      "Episode 2400/10000. Epsilon: 0.050. Reward in last 100 episodes: 31.82, loss: 75.25269317626953\n",
      "Episode 2450/10000. Epsilon: 0.050. Reward in last 100 episodes: 32.05, loss: 73.40135192871094\n",
      "Episode 2500/10000. Epsilon: 0.050. Reward in last 100 episodes: 31.96, loss: 76.93513488769531\n",
      "Episode 2550/10000. Epsilon: 0.050. Reward in last 100 episodes: 32.20, loss: 75.95539093017578\n",
      "Episode 2600/10000. Epsilon: 0.050. Reward in last 100 episodes: 32.30, loss: 76.40484619140625\n",
      "Episode 2650/10000. Epsilon: 0.050. Reward in last 100 episodes: 32.08, loss: 72.4235610961914\n",
      "Episode 2700/10000. Epsilon: 0.050. Reward in last 100 episodes: 32.17, loss: 77.48477935791016\n",
      "Episode 2750/10000. Epsilon: 0.050. Reward in last 100 episodes: 32.03, loss: 78.01677703857422\n",
      "Episode 2800/10000. Epsilon: 0.050. Reward in last 100 episodes: 31.04, loss: 78.28144836425781\n",
      "Episode 2850/10000. Epsilon: 0.050. Reward in last 100 episodes: 31.30, loss: 73.10910034179688\n",
      "Episode 2900/10000. Epsilon: 0.050. Reward in last 100 episodes: 32.52, loss: 73.24369812011719\n",
      "Episode 2950/10000. Epsilon: 0.050. Reward in last 100 episodes: 32.62, loss: 75.28453063964844\n",
      "Episode 3000/10000. Epsilon: 0.050. Reward in last 100 episodes: 31.51, loss: 75.0299072265625\n",
      "Episode 3050/10000. Epsilon: 0.050. Reward in last 100 episodes: 31.70, loss: 75.13899230957031\n",
      "Episode 3100/10000. Epsilon: 0.050. Reward in last 100 episodes: 31.96, loss: 77.99319458007812\n",
      "Episode 3150/10000. Epsilon: 0.050. Reward in last 100 episodes: 31.39, loss: 73.70777893066406\n",
      "Episode 3200/10000. Epsilon: 0.050. Reward in last 100 episodes: 31.54, loss: 75.52664947509766\n",
      "Episode 3250/10000. Epsilon: 0.050. Reward in last 100 episodes: 31.73, loss: 77.11936950683594\n",
      "Episode 3300/10000. Epsilon: 0.050. Reward in last 100 episodes: 32.10, loss: 73.65125274658203\n",
      "Episode 3350/10000. Epsilon: 0.050. Reward in last 100 episodes: 31.48, loss: 72.60008239746094\n",
      "Episode 3400/10000. Epsilon: 0.050. Reward in last 100 episodes: 31.60, loss: 74.42098999023438\n",
      "Episode 3450/10000. Epsilon: 0.050. Reward in last 100 episodes: 32.54, loss: 76.83734893798828\n",
      "Episode 3500/10000. Epsilon: 0.050. Reward in last 100 episodes: 32.13, loss: 75.76414489746094\n",
      "Episode 3550/10000. Epsilon: 0.050. Reward in last 100 episodes: 31.55, loss: 75.61465454101562\n",
      "Episode 3600/10000. Epsilon: 0.050. Reward in last 100 episodes: 31.13, loss: 74.72941589355469\n",
      "Episode 3650/10000. Epsilon: 0.050. Reward in last 100 episodes: 31.32, loss: 75.79554748535156\n",
      "Episode 3700/10000. Epsilon: 0.050. Reward in last 100 episodes: 31.17, loss: 73.40116119384766\n",
      "Episode 3750/10000. Epsilon: 0.050. Reward in last 100 episodes: 31.55, loss: 76.49160766601562\n",
      "Episode 3800/10000. Epsilon: 0.050. Reward in last 100 episodes: 32.75, loss: 74.1457290649414\n",
      "Episode 3850/10000. Epsilon: 0.050. Reward in last 100 episodes: 32.25, loss: 78.15058898925781\n",
      "Episode 3900/10000. Epsilon: 0.050. Reward in last 100 episodes: 31.55, loss: 74.27207946777344\n",
      "Episode 3950/10000. Epsilon: 0.050. Reward in last 100 episodes: 31.83, loss: 72.10752868652344\n",
      "Episode 4000/10000. Epsilon: 0.050. Reward in last 100 episodes: 31.84, loss: 74.51200866699219\n",
      "Episode 4050/10000. Epsilon: 0.050. Reward in last 100 episodes: 31.59, loss: 77.1946792602539\n",
      "Episode 4100/10000. Epsilon: 0.050. Reward in last 100 episodes: 32.02, loss: 74.9065170288086\n",
      "Episode 4150/10000. Epsilon: 0.050. Reward in last 100 episodes: 32.99, loss: 74.30388641357422\n",
      "Episode 4200/10000. Epsilon: 0.050. Reward in last 100 episodes: 32.80, loss: 78.02365112304688\n",
      "Episode 4250/10000. Epsilon: 0.050. Reward in last 100 episodes: 32.37, loss: 75.11387634277344\n",
      "Episode 4300/10000. Epsilon: 0.050. Reward in last 100 episodes: 32.95, loss: 73.10564422607422\n",
      "Episode 4350/10000. Epsilon: 0.050. Reward in last 100 episodes: 32.96, loss: 77.36817932128906\n",
      "Episode 4400/10000. Epsilon: 0.050. Reward in last 100 episodes: 32.37, loss: 73.98587036132812\n",
      "Episode 4450/10000. Epsilon: 0.050. Reward in last 100 episodes: 32.53, loss: 75.81791687011719\n",
      "Episode 4500/10000. Epsilon: 0.050. Reward in last 100 episodes: 33.94, loss: 77.53331756591797\n",
      "Episode 4550/10000. Epsilon: 0.050. Reward in last 100 episodes: 33.58, loss: 73.73340606689453\n",
      "Episode 4600/10000. Epsilon: 0.050. Reward in last 100 episodes: 32.87, loss: 75.39435577392578\n",
      "Episode 4650/10000. Epsilon: 0.050. Reward in last 100 episodes: 33.06, loss: 75.85633087158203\n",
      "Episode 4700/10000. Epsilon: 0.050. Reward in last 100 episodes: 32.55, loss: 77.03203582763672\n",
      "Episode 4750/10000. Epsilon: 0.050. Reward in last 100 episodes: 32.50, loss: 74.55776977539062\n",
      "Episode 4800/10000. Epsilon: 0.050. Reward in last 100 episodes: 32.57, loss: 74.33921813964844\n",
      "Episode 4850/10000. Epsilon: 0.050. Reward in last 100 episodes: 32.71, loss: 75.58036041259766\n",
      "Episode 4900/10000. Epsilon: 0.050. Reward in last 100 episodes: 32.72, loss: 76.32205963134766\n",
      "Episode 4950/10000. Epsilon: 0.050. Reward in last 100 episodes: 32.17, loss: 73.71849060058594\n",
      "Episode 5000/10000. Epsilon: 0.050. Reward in last 100 episodes: 32.67, loss: 76.6558609008789\n",
      "Episode 5050/10000. Epsilon: 0.050. Reward in last 100 episodes: 32.70, loss: 72.8712387084961\n",
      "Episode 5100/10000. Epsilon: 0.050. Reward in last 100 episodes: 31.93, loss: 76.53297424316406\n",
      "Episode 5150/10000. Epsilon: 0.050. Reward in last 100 episodes: 31.74, loss: 73.68855285644531\n",
      "Episode 5200/10000. Epsilon: 0.050. Reward in last 100 episodes: 32.66, loss: 74.59954833984375\n",
      "Episode 5250/10000. Epsilon: 0.050. Reward in last 100 episodes: 32.80, loss: 76.12295532226562\n",
      "Episode 5300/10000. Epsilon: 0.050. Reward in last 100 episodes: 32.24, loss: 74.1430892944336\n",
      "Episode 5350/10000. Epsilon: 0.050. Reward in last 100 episodes: 32.45, loss: 71.43009948730469\n",
      "Episode 5400/10000. Epsilon: 0.050. Reward in last 100 episodes: 31.83, loss: 72.78141021728516\n",
      "Episode 5450/10000. Epsilon: 0.050. Reward in last 100 episodes: 31.65, loss: 74.87405395507812\n",
      "Episode 5500/10000. Epsilon: 0.050. Reward in last 100 episodes: 32.25, loss: 73.42587280273438\n",
      "Episode 5550/10000. Epsilon: 0.050. Reward in last 100 episodes: 31.96, loss: 74.97402954101562\n",
      "Episode 5600/10000. Epsilon: 0.050. Reward in last 100 episodes: 31.28, loss: 77.98460388183594\n",
      "Episode 5650/10000. Epsilon: 0.050. Reward in last 100 episodes: 31.31, loss: 75.81822967529297\n",
      "Episode 5700/10000. Epsilon: 0.050. Reward in last 100 episodes: 31.70, loss: 74.89602661132812\n",
      "Episode 5750/10000. Epsilon: 0.050. Reward in last 100 episodes: 32.41, loss: 73.14141082763672\n",
      "Episode 5800/10000. Epsilon: 0.050. Reward in last 100 episodes: 32.25, loss: 77.03016662597656\n",
      "Episode 5850/10000. Epsilon: 0.050. Reward in last 100 episodes: 31.89, loss: 77.77046203613281\n",
      "Episode 5900/10000. Epsilon: 0.050. Reward in last 100 episodes: 31.96, loss: 78.20965576171875\n",
      "Episode 5950/10000. Epsilon: 0.050. Reward in last 100 episodes: 31.76, loss: 72.14849090576172\n",
      "Episode 6000/10000. Epsilon: 0.050. Reward in last 100 episodes: 31.91, loss: 76.9057388305664\n",
      "Episode 6050/10000. Epsilon: 0.050. Reward in last 100 episodes: 32.40, loss: 73.22673034667969\n",
      "Episode 6100/10000. Epsilon: 0.050. Reward in last 100 episodes: 31.95, loss: 72.97968292236328\n",
      "Episode 6150/10000. Epsilon: 0.050. Reward in last 100 episodes: 31.94, loss: 76.50096130371094\n",
      "Episode 6200/10000. Epsilon: 0.050. Reward in last 100 episodes: 32.22, loss: 75.30018615722656\n",
      "Episode 6250/10000. Epsilon: 0.050. Reward in last 100 episodes: 32.01, loss: 79.0680160522461\n",
      "Episode 6300/10000. Epsilon: 0.050. Reward in last 100 episodes: 32.50, loss: 76.143798828125\n",
      "Episode 6350/10000. Epsilon: 0.050. Reward in last 100 episodes: 32.25, loss: 70.35918426513672\n",
      "Episode 6400/10000. Epsilon: 0.050. Reward in last 100 episodes: 32.16, loss: 74.6382827758789\n",
      "Episode 6450/10000. Epsilon: 0.050. Reward in last 100 episodes: 31.98, loss: 72.38346862792969\n",
      "Episode 6500/10000. Epsilon: 0.050. Reward in last 100 episodes: 31.90, loss: 76.83085632324219\n",
      "Episode 6550/10000. Epsilon: 0.050. Reward in last 100 episodes: 32.51, loss: 77.80780029296875\n",
      "Episode 6600/10000. Epsilon: 0.050. Reward in last 100 episodes: 32.50, loss: 74.56338500976562\n",
      "Episode 6650/10000. Epsilon: 0.050. Reward in last 100 episodes: 32.05, loss: 74.8570327758789\n",
      "Episode 6700/10000. Epsilon: 0.050. Reward in last 100 episodes: 32.31, loss: 76.40093994140625\n",
      "Episode 6750/10000. Epsilon: 0.050. Reward in last 100 episodes: 32.57, loss: 72.22248077392578\n",
      "Episode 6800/10000. Epsilon: 0.050. Reward in last 100 episodes: 31.22, loss: 78.10160827636719\n",
      "Episode 6850/10000. Epsilon: 0.050. Reward in last 100 episodes: 31.41, loss: 75.70496368408203\n",
      "Episode 6900/10000. Epsilon: 0.050. Reward in last 100 episodes: 32.13, loss: 73.91773223876953\n",
      "Episode 6950/10000. Epsilon: 0.050. Reward in last 100 episodes: 31.99, loss: 71.61260986328125\n",
      "Episode 7000/10000. Epsilon: 0.050. Reward in last 100 episodes: 32.21, loss: 77.83597564697266\n",
      "Episode 7050/10000. Epsilon: 0.050. Reward in last 100 episodes: 32.62, loss: 69.29080200195312\n",
      "Episode 7100/10000. Epsilon: 0.050. Reward in last 100 episodes: 32.25, loss: 76.06654357910156\n",
      "Episode 7150/10000. Epsilon: 0.050. Reward in last 100 episodes: 32.01, loss: 73.49381256103516\n",
      "Episode 7200/10000. Epsilon: 0.050. Reward in last 100 episodes: 32.19, loss: 73.78009796142578\n",
      "Episode 7250/10000. Epsilon: 0.050. Reward in last 100 episodes: 32.46, loss: 77.49491882324219\n",
      "Episode 7300/10000. Epsilon: 0.050. Reward in last 100 episodes: 32.36, loss: 73.80593872070312\n",
      "Episode 7350/10000. Epsilon: 0.050. Reward in last 100 episodes: 31.61, loss: 74.7906494140625\n",
      "Episode 7400/10000. Epsilon: 0.050. Reward in last 100 episodes: 32.15, loss: 72.6062240600586\n",
      "Episode 7450/10000. Epsilon: 0.050. Reward in last 100 episodes: 32.00, loss: 75.5806884765625\n",
      "Episode 7500/10000. Epsilon: 0.050. Reward in last 100 episodes: 32.58, loss: 74.1034164428711\n",
      "Episode 7550/10000. Epsilon: 0.050. Reward in last 100 episodes: 32.93, loss: 78.4554214477539\n",
      "Episode 7600/10000. Epsilon: 0.050. Reward in last 100 episodes: 32.23, loss: 73.52534484863281\n",
      "Episode 7650/10000. Epsilon: 0.050. Reward in last 100 episodes: 32.57, loss: 75.68964385986328\n",
      "Episode 7700/10000. Epsilon: 0.050. Reward in last 100 episodes: 32.77, loss: 76.08552551269531\n",
      "Episode 7750/10000. Epsilon: 0.050. Reward in last 100 episodes: 32.17, loss: 76.53544616699219\n",
      "Episode 7800/10000. Epsilon: 0.050. Reward in last 100 episodes: 31.47, loss: 72.57484436035156\n",
      "Episode 7850/10000. Epsilon: 0.050. Reward in last 100 episodes: 31.89, loss: 74.40779113769531\n",
      "Episode 7900/10000. Epsilon: 0.050. Reward in last 100 episodes: 32.05, loss: 73.86078643798828\n",
      "Episode 7950/10000. Epsilon: 0.050. Reward in last 100 episodes: 32.27, loss: 77.09559631347656\n",
      "Episode 8000/10000. Epsilon: 0.050. Reward in last 100 episodes: 32.36, loss: 75.02562713623047\n",
      "Episode 8050/10000. Epsilon: 0.050. Reward in last 100 episodes: 31.27, loss: 72.29646301269531\n",
      "Episode 8100/10000. Epsilon: 0.050. Reward in last 100 episodes: 31.82, loss: 71.82060241699219\n",
      "Episode 8150/10000. Epsilon: 0.050. Reward in last 100 episodes: 33.33, loss: 73.10606384277344\n",
      "Episode 8200/10000. Epsilon: 0.050. Reward in last 100 episodes: 33.07, loss: 74.46826934814453\n",
      "Episode 8250/10000. Epsilon: 0.050. Reward in last 100 episodes: 32.26, loss: 76.97111511230469\n",
      "Episode 8300/10000. Epsilon: 0.050. Reward in last 100 episodes: 31.83, loss: 76.19297790527344\n",
      "Episode 8350/10000. Epsilon: 0.050. Reward in last 100 episodes: 31.90, loss: 71.18810272216797\n",
      "Episode 8400/10000. Epsilon: 0.050. Reward in last 100 episodes: 32.29, loss: 70.67391967773438\n",
      "Episode 8450/10000. Epsilon: 0.050. Reward in last 100 episodes: 32.13, loss: 73.87228393554688\n",
      "Episode 8500/10000. Epsilon: 0.050. Reward in last 100 episodes: 31.84, loss: 75.81285095214844\n",
      "Episode 8550/10000. Epsilon: 0.050. Reward in last 100 episodes: 32.26, loss: 75.65016174316406\n",
      "Episode 8600/10000. Epsilon: 0.050. Reward in last 100 episodes: 32.42, loss: 76.17426300048828\n",
      "Episode 8650/10000. Epsilon: 0.050. Reward in last 100 episodes: 32.11, loss: 75.97171020507812\n",
      "Episode 8700/10000. Epsilon: 0.050. Reward in last 100 episodes: 32.13, loss: 76.76412963867188\n",
      "Episode 8750/10000. Epsilon: 0.050. Reward in last 100 episodes: 31.95, loss: 69.57559204101562\n",
      "Episode 8800/10000. Epsilon: 0.050. Reward in last 100 episodes: 32.36, loss: 71.48455047607422\n",
      "Episode 8850/10000. Epsilon: 0.050. Reward in last 100 episodes: 32.96, loss: 77.14991760253906\n",
      "Episode 8900/10000. Epsilon: 0.050. Reward in last 100 episodes: 32.54, loss: 71.81195068359375\n",
      "Episode 8950/10000. Epsilon: 0.050. Reward in last 100 episodes: 31.68, loss: 73.14874267578125\n",
      "Episode 9000/10000. Epsilon: 0.050. Reward in last 100 episodes: 32.34, loss: 77.67097473144531\n",
      "Episode 9050/10000. Epsilon: 0.050. Reward in last 100 episodes: 33.03, loss: 74.64825439453125\n",
      "Episode 9100/10000. Epsilon: 0.050. Reward in last 100 episodes: 32.01, loss: 75.20721435546875\n",
      "Episode 9150/10000. Epsilon: 0.050. Reward in last 100 episodes: 31.46, loss: 76.48226165771484\n",
      "Episode 9200/10000. Epsilon: 0.050. Reward in last 100 episodes: 32.15, loss: 75.8214340209961\n",
      "Episode 9250/10000. Epsilon: 0.050. Reward in last 100 episodes: 32.40, loss: 74.49296569824219\n",
      "Episode 9300/10000. Epsilon: 0.050. Reward in last 100 episodes: 32.09, loss: 75.55116271972656\n",
      "Episode 9350/10000. Epsilon: 0.050. Reward in last 100 episodes: 32.63, loss: 73.9571533203125\n",
      "Episode 9400/10000. Epsilon: 0.050. Reward in last 100 episodes: 32.44, loss: 76.71344757080078\n",
      "Episode 9450/10000. Epsilon: 0.050. Reward in last 100 episodes: 31.33, loss: 75.16667938232422\n",
      "Episode 9500/10000. Epsilon: 0.050. Reward in last 100 episodes: 31.33, loss: 74.86434936523438\n",
      "Episode 9550/10000. Epsilon: 0.050. Reward in last 100 episodes: 32.18, loss: 76.75234985351562\n",
      "Episode 9600/10000. Epsilon: 0.050. Reward in last 100 episodes: 32.22, loss: 70.97330474853516\n",
      "Episode 9650/10000. Epsilon: 0.050. Reward in last 100 episodes: 31.80, loss: 76.11963653564453\n",
      "Episode 9700/10000. Epsilon: 0.050. Reward in last 100 episodes: 31.66, loss: 77.24136352539062\n",
      "Episode 9750/10000. Epsilon: 0.050. Reward in last 100 episodes: 31.30, loss: 73.22532653808594\n",
      "Episode 9800/10000. Epsilon: 0.050. Reward in last 100 episodes: 31.37, loss: 72.97110748291016\n",
      "Episode 9850/10000. Epsilon: 0.050. Reward in last 100 episodes: 32.19, loss: 74.19088745117188\n",
      "Episode 9900/10000. Epsilon: 0.050. Reward in last 100 episodes: 32.01, loss: 73.98363494873047\n",
      "Episode 9950/10000. Epsilon: 0.050. Reward in last 100 episodes: 31.53, loss: 78.42386627197266\n",
      "Episode 10000/10000. Epsilon: 0.050. Reward in last 100 episodes: 32.13, loss: 74.71241760253906\n"
     ]
    }
   ],
   "source": [
    "# Hyperparameters.\n",
    "num_episodes = 10000\n",
    "epsilon = 1.0\n",
    "batch_size = 32\n",
    "discount = 0.99\n",
    "buffer = ReplayMemory(100000, device=device)\n",
    "cur_frame = 0\n",
    "loss = 0\n",
    "\n",
    "# Start training. Play game once and then train with a batch.\n",
    "last_100_ep_rewards = []\n",
    "for episode in range(num_episodes+1):\n",
    "  state = env.reset()[0].astype(np.float32)\n",
    "  ep_reward, done = 0, False\n",
    "  while not done:\n",
    "    state_in = torch.from_numpy(np.expand_dims(state, axis=0)).to(device)\n",
    "    action = select_epsilon_greedy_action(state_in, epsilon)\n",
    "    \n",
    "    next_state, reward, done, info, unknown_attribute = env.step(action)\n",
    "    next_state = next_state.astype(np.float32)\n",
    "    ep_reward += reward\n",
    "    \n",
    "    buffer.add(state, action, reward, next_state, done)\n",
    "    state = next_state\n",
    "    cur_frame += 1\n",
    "    # Copy main_nn weights to target_nn.\n",
    "    if cur_frame % 2000 == 0:\n",
    "      target_nn.load_state_dict(main_nn.state_dict())\n",
    "    \n",
    "    # Train neural network.\n",
    "    if len(buffer) > batch_size:\n",
    "      states, actions, rewards, next_states, dones = buffer.sample(batch_size)\n",
    "      next_states = torch.from_numpy(next_states).to(device)\n",
    "      rewards = torch.from_numpy(rewards).to(device)\n",
    "      states = torch.from_numpy(states).to(device)\n",
    "      dones = torch.from_numpy(dones).to(device)\n",
    "      actions = torch.from_numpy(actions).to(device)\n",
    "\n",
    "\n",
    "      loss = training_step(states, actions, rewards, next_states, dones)\n",
    "\n",
    "  if episode < 950:\n",
    "    epsilon -= 0.001\n",
    "\n",
    "  if len(last_100_ep_rewards) == 100:\n",
    "    last_100_ep_rewards = last_100_ep_rewards[1:]\n",
    "  last_100_ep_rewards.append(ep_reward)\n",
    "\n",
    "  if episode % 50 == 0:\n",
    "    print(f'Episode {episode}/{num_episodes}. Epsilon: {epsilon:.3f}.'\n",
    "          f' Reward in last 100 episodes: {np.mean(last_100_ep_rewards):.2f}, loss: {loss}')\n",
    "    \n",
    "env.close()"
   ]
  },
  {
   "cell_type": "code",
   "execution_count": 1,
   "metadata": {},
   "outputs": [
    {
     "ename": "NameError",
     "evalue": "name 'gym' is not defined",
     "output_type": "error",
     "traceback": [
      "\u001b[0;31m---------------------------------------------------------------------------\u001b[0m",
      "\u001b[0;31mNameError\u001b[0m                                 Traceback (most recent call last)",
      "\u001b[1;32m/Users/lorenzo/Documents/GitHub/Progetto-ML/Main5layers_continue_output.ipynb Cella 17\u001b[0m in \u001b[0;36m1\n\u001b[0;32m----> <a href='vscode-notebook-cell:/Users/lorenzo/Documents/GitHub/Progetto-ML/Main5layers_continue_output.ipynb#X24sZmlsZQ%3D%3D?line=0'>1</a>\u001b[0m env_test \u001b[39m=\u001b[39m gym\u001b[39m.\u001b[39mmake(\u001b[39m'\u001b[39m\u001b[39mInvertedDoublePendulum-v4\u001b[39m\u001b[39m'\u001b[39m,render_mode\u001b[39m=\u001b[39m\u001b[39m\"\u001b[39m\u001b[39mhuman\u001b[39m\u001b[39m\"\u001b[39m)\n\u001b[1;32m      <a href='vscode-notebook-cell:/Users/lorenzo/Documents/GitHub/Progetto-ML/Main5layers_continue_output.ipynb#X24sZmlsZQ%3D%3D?line=2'>3</a>\u001b[0m observation \u001b[39m=\u001b[39m env_test\u001b[39m.\u001b[39mreset()[\u001b[39m0\u001b[39m]\u001b[39m.\u001b[39mastype(np\u001b[39m.\u001b[39mfloat32)\n\u001b[1;32m      <a href='vscode-notebook-cell:/Users/lorenzo/Documents/GitHub/Progetto-ML/Main5layers_continue_output.ipynb#X24sZmlsZQ%3D%3D?line=5'>6</a>\u001b[0m \u001b[39mfor\u001b[39;00m i \u001b[39min\u001b[39;00m \u001b[39mrange\u001b[39m(\u001b[39m1000\u001b[39m):\n",
      "\u001b[0;31mNameError\u001b[0m: name 'gym' is not defined"
     ]
    }
   ],
   "source": [
    "\n",
    "env_test = gym.make('InvertedDoublePendulum-v4',render_mode=\"human\")\n",
    "\n",
    "observation = env_test.reset()[0].astype(np.float32)\n",
    "\n",
    "\n",
    "for i in range(1000):\n",
    "    inp = torch.from_numpy(observation)\n",
    "    action = main_nn(inp)\n",
    "    observation, reward, terminated, truncated, info = env_test.step(action)\n",
    "    observation = observation.astype(np.float32)\n",
    "\n",
    "    \n",
    "\n",
    "    if terminated or truncated:\n",
    "        observation, info = env.reset()\n",
    "        observation = observation.astype(np.float32)\n",
    "\n",
    "\n",
    "env_test.close"
   ]
  },
  {
   "attachments": {},
   "cell_type": "markdown",
   "metadata": {},
   "source": [
    "code to export the trained model"
   ]
  },
  {
   "cell_type": "code",
   "execution_count": 24,
   "metadata": {},
   "outputs": [],
   "source": [
    "PATH = r\"./\"\n",
    "torch.save(main_nn.state_dict(), PATH + r\"RNN.pth\")"
   ]
  },
  {
   "attachments": {},
   "cell_type": "markdown",
   "metadata": {},
   "source": [
    "code to import a pretrained model"
   ]
  },
  {
   "cell_type": "code",
   "execution_count": 10,
   "metadata": {},
   "outputs": [
    {
     "data": {
      "text/plain": [
       "<All keys matched successfully>"
      ]
     },
     "execution_count": 10,
     "metadata": {},
     "output_type": "execute_result"
    }
   ],
   "source": [
    "PATH = r\"./\"\n",
    "main_nn.load_state_dict(torch.load(PATH + r\"RNN5-layers2.pth\",map_location=device))"
   ]
  }
 ],
 "metadata": {
  "kernelspec": {
   "display_name": "Python 3",
   "language": "python",
   "name": "python3"
  },
  "language_info": {
   "codemirror_mode": {
    "name": "ipython",
    "version": 3
   },
   "file_extension": ".py",
   "mimetype": "text/x-python",
   "name": "python",
   "nbconvert_exporter": "python",
   "pygments_lexer": "ipython3",
   "version": "3.8.2"
  },
  "orig_nbformat": 4
 },
 "nbformat": 4,
 "nbformat_minor": 2
}
